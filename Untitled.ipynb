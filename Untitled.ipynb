{
 "cells": [
  {
   "cell_type": "code",
   "execution_count": 64,
   "metadata": {},
   "outputs": [],
   "source": [
    "import time\n",
    "import pandas as pd\n",
    "\n",
    "from selenium import webdriver\n",
    "from bs4 import BeautifulSoup\n",
    "from selenium.webdriver.common.keys import Keys\n",
    "\n",
    "b = webdriver.Firefox(executable_path=\"/Users/jackowens/Downloads/geckodriver\")"
   ]
  },
  {
   "cell_type": "code",
   "execution_count": 65,
   "metadata": {},
   "outputs": [],
   "source": [
    "b.get(\"https://www.ebay.com/\")\n",
    "b.implicitly_wait(2)"
   ]
  },
  {
   "cell_type": "code",
   "execution_count": 66,
   "metadata": {},
   "outputs": [],
   "source": [
    "# Search for Item\n",
    "input_field = b.find_element_by_xpath(\"//input[@id='gh-ac']\")\n",
    "input_field.click()\n",
    "input_field.send_keys(\"bicycle\" + Keys.RETURN)\n",
    "\n",
    "time.sleep(2)  # Wait for results to load"
   ]
  },
  {
   "cell_type": "code",
   "execution_count": 67,
   "metadata": {},
   "outputs": [],
   "source": [
    "# Select Buy It Now\n",
    "buy_it_now = b.find_element_by_xpath(\"//h2[contains(., 'Buy It Now')]\")\n",
    "buy_it_now.click()"
   ]
  },
  {
   "cell_type": "code",
   "execution_count": 68,
   "metadata": {},
   "outputs": [],
   "source": [
    "# Sort by Newly Listed\n",
    "page_url = b.current_url\n",
    "page_url = page_url + \"&_sop=10\"\n",
    "b.get(page_url)"
   ]
  },
  {
   "cell_type": "code",
   "execution_count": 69,
   "metadata": {},
   "outputs": [],
   "source": [
    "# Save Page Source\n",
    "page_source_results = b.page_source\n",
    "soup = BeautifulSoup(page_source_results, features=\"lxml\")"
   ]
  },
  {
   "cell_type": "code",
   "execution_count": 121,
   "metadata": {},
   "outputs": [],
   "source": [
    "# Parse Item Titles\n",
    "listings = soup.find_all(\"li\", class_=\"s-item\") # <class 'bs4.element.ResultSet'>\n",
    "\n",
    "item_titles = []\n",
    "item_prices = []\n",
    "item_dates = []\n",
    "\n",
    "for listing in listings:\n",
    "    prod_name=\" \" # Removes \"New Listing\" prefix\n",
    "\n",
    "    for name in listing.find_all('h3', attrs={'class':\"s-item__title\"}):\n",
    "        if(str(name.find(text=True, recursive=False))!=\"None\"):\n",
    "            prod_name=str(name.find(text=True, recursive=False))\n",
    "            item_titles.append(prod_name)\n",
    "\n",
    "    if(prod_name!=\" \"):\n",
    "        price = listing.find('span', attrs={'class':\"s-item__price\"})\n",
    "        item_prices.append(price.text)\n",
    "\n",
    "    for details in listing.find_all('div', attrs={'class':\"s-item__details\"}):\n",
    "\n",
    "        for date in details.find_all('span', attrs={'class':\"s-item__detail s-item__detail--secondary\"}):\n",
    "#             print(date.text)\n",
    "            item_dates.append(date.text)\n",
    "\n",
    "\n",
    "# for title, price, date in zip(item_titles, item_prices, item_dates):\n",
    "#     print(title, price, date)\n",
    "\n",
    "search_results_df = pd.DataFrame.from_dict({\"Name\":item_titles, \"Price\": item_prices, \"Date\": item_dates}, orient=\"index\")\n"
   ]
  },
  {
   "cell_type": "code",
   "execution_count": 124,
   "metadata": {},
   "outputs": [
    {
     "name": "stdout",
     "output_type": "stream",
     "text": [
      "                                                                0   \\\n",
      "Name   Giro Ventana Mountain Bike Shoes 44/10.5...Black/Army Green   \n",
      "Price                                                      $150.00   \n",
      "Date                                                  Jun-13 13:26   \n",
      "\n",
      "                                                                              1   \\\n",
      "Name   Nike SuperRep Cycle Training Shoes- White/Black CW2191-100 Womens Size 10   \n",
      "Price                                                                    $235.00   \n",
      "Date                                                                Jun-13 13:25   \n",
      "\n",
      "                                                                               2   \\\n",
      "Name   VTG 60-70's Banana Bike Seat Bicycle GLITTER Ruby 18\" Italy w/ Gulco Re...   \n",
      "Price                                                                      $47.20   \n",
      "Date                                                                 Jun-13 13:25   \n",
      "\n",
      "                             3   \\\n",
      "Name   Axis Caliper Bike Brakes   \n",
      "Price                    $35.00   \n",
      "Date               Jun-13 13:24   \n",
      "\n",
      "                                                                  4   \\\n",
      "Name   Bicycle cycling drink water bottle holder aluminum alloy rack   \n",
      "Price                                                          $5.00   \n",
      "Date                                                    Jun-13 13:24   \n",
      "\n",
      "                                                                              5   \\\n",
      "Name   Bicycle/bike fork 26\" triple tree suspension fork - Gas Motorized bicycle   \n",
      "Price                                                           $79.66 to $89.66   \n",
      "Date                                                                FAST 'N FREE   \n",
      "\n",
      "                                           6   \\\n",
      "Name   Bell Road Bike Tire w/ Kevlar 27x1 1/4   \n",
      "Price                                  $29.00   \n",
      "Date               Guaranteed by Thu, Jun. 18   \n",
      "\n",
      "                                       7   \\\n",
      "Name   2002 Haro Group 1 CR Mini BMX Used   \n",
      "Price                             $150.00   \n",
      "Date                         Jun-13 13:24   \n",
      "\n",
      "                                                                               8   \\\n",
      "Name   Miche Graff 11s Alloy Road Bike Crankset 2x10/11-speed-46/30 Teeth,172.5mm   \n",
      "Price                                                                     $220.44   \n",
      "Date                                                                  More colors   \n",
      "\n",
      "                                                                               9   \\\n",
      "Name   Wall Mount Bike Rack Dirza Bicycle Hanger Vertical Bike Storage System ...   \n",
      "Price                                                                      $32.46   \n",
      "Date                                                                 Jun-13 13:23   \n",
      "\n",
      "       ...            81            82            83            84  \\\n",
      "Name   ...          None          None          None          None   \n",
      "Price  ...          None          None          None          None   \n",
      "Date   ...  Jun-13 13:10  Jun-13 13:10  Jun-13 13:10  Jun-13 13:10   \n",
      "\n",
      "                               85            86            87          88  \\\n",
      "Name                         None          None          None        None   \n",
      "Price                        None          None          None        None   \n",
      "Date   Guaranteed by Thu, Jun. 18  Jun-13 13:10  Jun-13 13:09  From China   \n",
      "\n",
      "                89            90  \n",
      "Name          None          None  \n",
      "Price         None          None  \n",
      "Date   More colors  Jun-13 13:09  \n",
      "\n",
      "[3 rows x 91 columns]\n"
     ]
    }
   ],
   "source": [
    "pd.set_option('max_colwidth', 75)\n",
    "print(search_results_df)"
   ]
  },
  {
   "cell_type": "code",
   "execution_count": null,
   "metadata": {},
   "outputs": [],
   "source": []
  }
 ],
 "metadata": {
  "kernelspec": {
   "display_name": "Python 3",
   "language": "python",
   "name": "python3"
  },
  "language_info": {
   "codemirror_mode": {
    "name": "ipython",
    "version": 3
   },
   "file_extension": ".py",
   "mimetype": "text/x-python",
   "name": "python",
   "nbconvert_exporter": "python",
   "pygments_lexer": "ipython3",
   "version": "3.7.0"
  }
 },
 "nbformat": 4,
 "nbformat_minor": 2
}
